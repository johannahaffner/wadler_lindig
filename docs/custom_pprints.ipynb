{
 "cells": [
  {
   "cell_type": "markdown",
   "id": "84ffd0ab-e77b-48dd-8500-81ef14a6600f",
   "metadata": {},
   "source": [
    "# The `__pdoc__` method\n",
    "\n",
    "The general pattern is the following:\n",
    "\n",
    "```python\n",
    "class MyAmazingClass:\n",
    "    def __pdoc__(self, **kwargs) -> wadler_lindig.AbstractDoc:\n",
    "        ...  # Create your pretty representation here!\n",
    "\n",
    "    def __repr__(self):\n",
    "        # Calls `__pdoc__` and then formats to a particular width.\n",
    "        return wadler_lindig.pformat(self, width=80)\n",
    "```\n",
    "\n",
    "Let's go ahead and create such an example now! Let's build an example involving mathematical expressions."
   ]
  },
  {
   "cell_type": "code",
   "execution_count": 1,
   "id": "8e5c0ecb-936a-4eb4-8566-30b0e7777d3f",
   "metadata": {},
   "outputs": [],
   "source": [
    "import wadler_lindig as wl"
   ]
  },
  {
   "cell_type": "code",
   "execution_count": 2,
   "id": "e80c37df-0143-42a6-b6ed-8eeb3a553d65",
   "metadata": {},
   "outputs": [],
   "source": [
    "class AbstractExpression:\n",
    "    def __repr__(self):\n",
    "        return wl.pformat(self, width=80)\n",
    "\n",
    "    def __add__(self, other):\n",
    "        return BinaryOperation(\"+\", self, other)\n",
    "\n",
    "\n",
    "class Symbol(AbstractExpression):\n",
    "    def __init__(self, name: str):\n",
    "        self.name = name\n",
    "\n",
    "    def __call__(self, *args):\n",
    "        return FunctionCall(self.name, *args)\n",
    "\n",
    "    def __pdoc__(self, **kwargs):\n",
    "        return wl.TextDoc(wl.ansi_format(self.name, \"red\", bold=False))\n",
    "\n",
    "\n",
    "class BinaryOperation(AbstractExpression):\n",
    "    def __init__(self, op: str, left: AbstractExpression, right: AbstractExpression):\n",
    "        self.op = op\n",
    "        self.left = left\n",
    "        self.right = right\n",
    "\n",
    "    def __pdoc__(self, **kwargs):\n",
    "        left = wl.pdoc(self.left)\n",
    "        brk = wl.BreakDoc(\" \")\n",
    "        op = wl.TextDoc(self.op)\n",
    "        right = wl.pdoc(self.right)\n",
    "        return wl.ConcatDoc(left, brk, op, wl.TextDoc(\" \"), right)\n",
    "\n",
    "\n",
    "class FunctionCall(AbstractExpression):\n",
    "    def __init__(self, fn: str, *args: AbstractExpression):\n",
    "        self.fn = fn\n",
    "        self.args = args\n",
    "\n",
    "    def __pdoc__(self, **kwargs):\n",
    "        fn = wl.TextDoc(wl.ansi_format(self.fn, \"blue\", bold=True))\n",
    "        brk = wl.BreakDoc(\"\")\n",
    "        args = [wl.pdoc(arg) for arg in self.args]\n",
    "        args = wl.join(wl.comma, args)\n",
    "        args = wl.NestDoc(wl.ConcatDoc(brk, wl.GroupDoc(args)), indent=kwargs[\"indent\"])\n",
    "        return wl.ConcatDoc(fn, wl.TextDoc(\"(\"), args, brk, wl.TextDoc(\")\"))"
   ]
  },
  {
   "cell_type": "code",
   "execution_count": null,
   "id": "eb8b51d2-8eb5-42ba-8cf5-9ffe3958caff",
   "metadata": {},
   "outputs": [],
   "source": [
    "f = Symbol(\"amazing_fn\")\n",
    "x = Symbol(\"arg0\")\n",
    "y = Symbol(\"arg1\")\n",
    "z = Symbol(\"arg2\")\n",
    "w = Symbol(\"arg3\")\n",
    "expr = f(x, y, z + w)"
   ]
  },
  {
   "cell_type": "markdown",
   "id": "c67289c9-593b-4f71-a2a6-5fac6bfdee75",
   "metadata": {},
   "source": [
    "Now let's pretty-print the result:"
   ]
  },
  {
   "cell_type": "code",
   "execution_count": 11,
   "id": "5411bd6d-0b8b-4535-82a6-fb622bebe9a3",
   "metadata": {},
   "outputs": [
    {
     "name": "stdout",
     "output_type": "stream",
     "text": [
      "\u001b[1m\u001b[34mamazing_fn\u001b[0m(\u001b[31marg0\u001b[0m, \u001b[31marg1\u001b[0m, \u001b[31marg2\u001b[0m + \u001b[31marg3\u001b[0m)\n",
      "\u001b[1m\u001b[34mamazing_fn\u001b[0m(\n",
      "  \u001b[31marg0\u001b[0m, \u001b[31marg1\u001b[0m, \u001b[31marg2\u001b[0m + \u001b[31marg3\u001b[0m\n",
      ")\n",
      "\u001b[1m\u001b[34mamazing_fn\u001b[0m(\n",
      "  \u001b[31marg0\u001b[0m,\n",
      "  \u001b[31marg1\u001b[0m,\n",
      "  \u001b[31marg2\u001b[0m + \u001b[31marg3\u001b[0m\n",
      ")\n",
      "\u001b[1m\u001b[34mamazing_fn\u001b[0m(\n",
      "  \u001b[31marg0\u001b[0m,\n",
      "  \u001b[31marg1\u001b[0m,\n",
      "  \u001b[31marg2\u001b[0m\n",
      "  + \u001b[31marg3\u001b[0m\n",
      ")"
     ]
    }
   ],
   "source": [
    "wl.pprint(expr, width=50)\n",
    "wl.pprint(expr, width=30)\n",
    "wl.pprint(expr, width=20)\n",
    "wl.pprint(expr, width=10)"
   ]
  },
  {
   "cell_type": "markdown",
   "id": "be1dd1d5-32a5-45fd-b5ad-6896c2665ee0",
   "metadata": {},
   "source": [
    "And because we defined our `__repr__` in terms of pretty-printing, then this works too:"
   ]
  },
  {
   "cell_type": "code",
   "execution_count": 9,
   "id": "1d06018a-bff2-4a7b-a6bd-19e7a9cbd419",
   "metadata": {},
   "outputs": [
    {
     "name": "stdout",
     "output_type": "stream",
     "text": [
      "\u001b[1m\u001b[34mamazing_fn\u001b[0m(\u001b[31marg0\u001b[0m, \u001b[31marg1\u001b[0m, \u001b[31marg2\u001b[0m + \u001b[31marg3\u001b[0m)"
     ]
    }
   ],
   "source": [
    "print(repr(expr))"
   ]
  },
  {
   "attachments": {},
   "cell_type": "markdown",
   "id": "bc4c5f27-d3b3-407a-834f-159abbcc11d0",
   "metadata": {},
   "source": [
    "This is one of the main use-cases for the `wadler_lindig` library: to define useful, well-formatted reprs for complicated types.\n",
    "\n",
    "Now let's chase through how this example was constructed. At the top level, we called [`wadler_lindig.pprint`][] (or [`wadler_lindig.pformat`][]). This called the `__pdoc__` method of the top-level object (a `FunctionCall`), and formatted the result. Inside that `__pdoc__` method, we used [`wadler_lindig.pdoc`][] to get the pretty-documents of its components, which we then compose together.\n",
    "\n",
    "Finally as you can see, we've also taken the opportunity to show off our ability to use ANSI colours!\n",
    "\n",
    "---\n",
    "\n",
    "Next example: take a look at the [methods example](./methods.ipynb) for how to elegantly construct nested structures of documents."
   ]
  }
 ],
 "metadata": {
  "kernelspec": {
   "display_name": "Python 3 (ipykernel)",
   "language": "python",
   "name": "python3"
  },
  "language_info": {
   "codemirror_mode": {
    "name": "ipython",
    "version": 3
   },
   "file_extension": ".py",
   "mimetype": "text/x-python",
   "name": "python",
   "nbconvert_exporter": "python",
   "pygments_lexer": "ipython3",
   "version": "3.11.9"
  }
 },
 "nbformat": 4,
 "nbformat_minor": 5
}
