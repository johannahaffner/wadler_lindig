{
 "cells": [
  {
   "cell_type": "markdown",
   "id": "1dd5616b-afc9-4ebc-8d06-82ce8bed0436",
   "metadata": {},
   "source": [
    "# `pprint` and `pformat`\n",
    "\n",
    "This `wadler_lindig` library offers two main functions: [`wadler_lindig.pprint`][] and [`wadler_lindig.pformat`][]. The first pretty-prints a Python object to stdout, and the second returns a string representation.\n",
    "\n",
    "By default it understands a wide variety of Python types.\n",
    "\n",
    "Let's take a look:"
   ]
  },
  {
   "cell_type": "code",
   "execution_count": 3,
   "id": "38570229-fd28-4c8d-83c3-685e59b8c940",
   "metadata": {},
   "outputs": [
    {
     "name": "stdout",
     "output_type": "stream",
     "text": [
      "Mesh(\n",
      "  points=[\n",
      "    Point(x=0, y=0, z=0),\n",
      "    Point(x=1, y=0, z=0),\n",
      "    Point(x=0, y=1, z=0),\n",
      "    Point(x=0, y=0, z=1)\n",
      "  ]\n",
      ")"
     ]
    }
   ],
   "source": [
    "import dataclasses\n",
    "import wadler_lindig as wl\n",
    "\n",
    "@dataclasses.dataclass\n",
    "class Point:\n",
    "    x: int\n",
    "    y: int\n",
    "    z: int\n",
    "\n",
    "@dataclasses.dataclass\n",
    "class Mesh:\n",
    "    points: list[Point]\n",
    "\n",
    "origin = Point(0, 0, 0)\n",
    "vertex1 = Point(1, 0, 0)\n",
    "vertex2 = Point(0, 1, 0)\n",
    "vertex3 = Point(0, 0, 1)\n",
    "simplex = Mesh([origin, vertex1, vertex2, vertex3])\n",
    "\n",
    "# Look at that beautiful formatting and indentation:\n",
    "wl.pprint(simplex)"
   ]
  },
  {
   "cell_type": "markdown",
   "id": "ad25da74-09f1-40da-b3f9-29482ea6a019",
   "metadata": {},
   "source": [
    "We can also return a string, rather than printing directly to stdout:"
   ]
  },
  {
   "cell_type": "code",
   "execution_count": 4,
   "id": "4e975acb-3720-4d0d-b472-977a88e450e0",
   "metadata": {},
   "outputs": [
    {
     "data": {
      "text/plain": [
       "'Mesh(\\n  points=[\\n    Point(x=0, y=0, z=0),\\n    Point(x=1, y=0, z=0),\\n    Point(x=0, y=1, z=0),\\n    Point(x=0, y=0, z=1)\\n  ]\\n)'"
      ]
     },
     "execution_count": 4,
     "metadata": {},
     "output_type": "execute_result"
    }
   ],
   "source": [
    "wl.pformat(simplex)"
   ]
  },
  {
   "cell_type": "markdown",
   "id": "0c1fa49f-0b47-4ee3-a6bc-ed613a6a3b18",
   "metadata": {},
   "source": [
    "## Setting width, indents, and arrays\n",
    "We can customise the indent:"
   ]
  },
  {
   "cell_type": "code",
   "execution_count": 6,
   "id": "74a46263-1b03-4bdd-9297-9eae10ed449a",
   "metadata": {},
   "outputs": [
    {
     "name": "stdout",
     "output_type": "stream",
     "text": [
      "Mesh(\n",
      "    points=[\n",
      "        Point(x=0, y=0, z=0),\n",
      "        Point(x=1, y=0, z=0),\n",
      "        Point(x=0, y=1, z=0),\n",
      "        Point(x=0, y=0, z=1)\n",
      "    ]\n",
      ")"
     ]
    }
   ],
   "source": [
    "wl.pprint(simplex, indent=4)"
   ]
  },
  {
   "cell_type": "markdown",
   "id": "56d0682b-94ef-49c6-9777-dc4f16083039",
   "metadata": {},
   "source": [
    "And the width:"
   ]
  },
  {
   "cell_type": "code",
   "execution_count": 9,
   "id": "dd2fd961-b8e4-4528-9f90-3ae923f0c8e1",
   "metadata": {},
   "outputs": [
    {
     "name": "stdout",
     "output_type": "stream",
     "text": [
      "Mesh(\n",
      "  points=[Point(x=0, y=0, z=0), Point(x=1, y=0, z=0), Point(x=0, y=1, z=0), Point(x=0, y=0, z=1)]\n",
      ")"
     ]
    }
   ],
   "source": [
    "wl.pprint(simplex, width=100)"
   ]
  },
  {
   "cell_type": "code",
   "execution_count": 10,
   "id": "c8908a2f-74a3-41ab-a0c0-596feafa6d2d",
   "metadata": {},
   "outputs": [
    {
     "name": "stdout",
     "output_type": "stream",
     "text": [
      "Mesh(\n",
      "  points=[\n",
      "    Point(\n",
      "      x=0,\n",
      "      y=0,\n",
      "      z=0\n",
      "    ),\n",
      "    Point(\n",
      "      x=1,\n",
      "      y=0,\n",
      "      z=0\n",
      "    ),\n",
      "    Point(\n",
      "      x=0,\n",
      "      y=1,\n",
      "      z=0\n",
      "    ),\n",
      "    Point(\n",
      "      x=0,\n",
      "      y=0,\n",
      "      z=1\n",
      "    )\n",
      "  ]\n",
      ")"
     ]
    }
   ],
   "source": [
    "wl.pprint(simplex, width=15)"
   ]
  },
  {
   "cell_type": "markdown",
   "id": "8f1629ab-bf11-4f61-9e60-fb57445d8455",
   "metadata": {},
   "source": [
    "If we have numpy (or PyTorch or JAX) arrays, then we can toggle whether to display them in short form..."
   ]
  },
  {
   "cell_type": "code",
   "execution_count": 13,
   "id": "dc596a8e-a987-445f-8cb0-624c038bc901",
   "metadata": {},
   "outputs": [
    {
     "name": "stdout",
     "output_type": "stream",
     "text": [
      "f64[2,3,4](numpy)"
     ]
    }
   ],
   "source": [
    "import numpy as np\n",
    "x = np.arange(24.0).reshape(2, 3, 4)\n",
    "wl.pprint(x, short_arrays=True)  # default value for `short_array`"
   ]
  },
  {
   "cell_type": "markdown",
   "id": "6762a876-33e0-48d6-838f-e667880c551f",
   "metadata": {},
   "source": [
    "or long form:"
   ]
  },
  {
   "cell_type": "code",
   "execution_count": 14,
   "id": "053d781a-2637-4dff-a69d-a3d961bbe123",
   "metadata": {},
   "outputs": [
    {
     "name": "stdout",
     "output_type": "stream",
     "text": [
      "array([[[ 0.,  1.,  2.,  3.],\n",
      "        [ 4.,  5.,  6.,  7.],\n",
      "        [ 8.,  9., 10., 11.]],\n",
      "\n",
      "       [[12., 13., 14., 15.],\n",
      "        [16., 17., 18., 19.],\n",
      "        [20., 21., 22., 23.]]])"
     ]
    }
   ],
   "source": [
    "wl.pprint(x, short_arrays=False)  # use the normal repr for the array"
   ]
  },
  {
   "cell_type": "markdown",
   "id": "c905d40b-75c5-4f70-9dcb-e99e1efe51d3",
   "metadata": {},
   "source": [
    "## Handling custom types\n",
    "Finally, if we have a custom type for which we want to override its pretty representation, then we can either use the `custom` argument:"
   ]
  },
  {
   "cell_type": "code",
   "execution_count": 15,
   "id": "fa32303b-78fd-4c6e-9480-12bb83f1f3d3",
   "metadata": {},
   "outputs": [
    {
     "name": "stdout",
     "output_type": "stream",
     "text": [
      "Bar"
     ]
    }
   ],
   "source": [
    "class Foo:\n",
    "    pass\n",
    "\n",
    "def custom(obj):\n",
    "    if isinstance(obj, Foo):\n",
    "        return wl.TextDoc(\"Bar\")\n",
    "    else:\n",
    "        return None\n",
    "\n",
    "wl.pprint(Foo(), custom=custom)"
   ]
  },
  {
   "cell_type": "markdown",
   "id": "cea59901-241c-4cad-a16c-6febe0bfde67",
   "metadata": {},
   "source": [
    "Or we can set the object's `__pdoc__` method:"
   ]
  },
  {
   "cell_type": "code",
   "execution_count": 17,
   "id": "63b31d10-f3e8-44ec-b846-761a69ce1c71",
   "metadata": {},
   "outputs": [],
   "source": [
    "class Foo:\n",
    "    def __pdoc__(self, **kwargs) -> None | wl.AbstractDoc:\n",
    "        return wl.TextDoc(\"Bar\")"
   ]
  },
  {
   "cell_type": "markdown",
   "id": "b9e919df-f323-461f-b080-7cf077f71001",
   "metadata": {},
   "source": [
    "**Being able to define useful well-formatted reprs for your custom complicated types is actually one of the major use-cases for the `wadler_lindig` library!** For this reason we have a dedicated collection of tutorial on how this works: see [how the WL algorithm works](./algorithm.md)."
   ]
  }
 ],
 "metadata": {
  "kernelspec": {
   "display_name": "Python 3 (ipykernel)",
   "language": "python",
   "name": "python3"
  },
  "language_info": {
   "codemirror_mode": {
    "name": "ipython",
    "version": 3
   },
   "file_extension": ".py",
   "mimetype": "text/x-python",
   "name": "python",
   "nbconvert_exporter": "python",
   "pygments_lexer": "ipython3",
   "version": "3.11.9"
  }
 },
 "nbformat": 4,
 "nbformat_minor": 5
}
