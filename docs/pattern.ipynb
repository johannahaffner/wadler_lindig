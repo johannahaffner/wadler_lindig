{
 "cells": [
  {
   "cell_type": "markdown",
   "id": "5521f760-2096-4b8e-9275-3b8aa23d8070",
   "metadata": {},
   "source": [
    "# The `(break-group).nest-break` pattern\n",
    "\n",
    "Consider the following (from the [methods example](./methods.ipynb))."
   ]
  },
  {
   "cell_type": "code",
   "execution_count": 1,
   "id": "b7959cb0-3e8c-43bf-ab78-c7040b048095",
   "metadata": {},
   "outputs": [],
   "source": [
    "from wadler_lindig import BreakDoc as Brk, TextDoc as Txt, pprint\n",
    "\n",
    "doc = (\n",
    "    Txt(\"begin\")\n",
    "    + (\n",
    "        Brk(\" \")\n",
    "        + (Txt(\"stmt;\") + Brk(\" \") + Txt(\"stmt;\") + Brk(\" \") + Txt(\"stmt;\")).group()\n",
    "    ).nest(3)\n",
    "    + Brk(\" \")\n",
    "    + Txt(\"end\")\n",
    ")"
   ]
  },
  {
   "cell_type": "code",
   "execution_count": 2,
   "id": "31acee4f-78cb-448e-b802-92b68556ef85",
   "metadata": {},
   "outputs": [
    {
     "name": "stdout",
     "output_type": "stream",
     "text": [
      "begin\n",
      "   stmt; stmt; stmt;\n",
      "end\n",
      "begin\n",
      "   stmt;\n",
      "   stmt;\n",
      "   stmt;\n",
      "end"
     ]
    }
   ],
   "source": [
    "pprint(doc, width=25)\n",
    "pprint(doc, width=15)"
   ]
  },
  {
   "attachments": {},
   "cell_type": "markdown",
   "id": "8b9c2192-cd00-4dff-8ef3-a7073c1c8bef",
   "metadata": {},
   "source": [
    "Patterns of this form are very common: we have a beginning statement, then some indented content, and then an ending statement. The indented content should be laid out horizontally, or if there isn't enough space, vertically. The pattern being used here is this:\n",
    "\n",
    "```python\n",
    "(Brk(\"\") + (foo + bar + baz).group()).nest(indent) + Brk(\"\")\n",
    "```\n",
    "\n",
    "This is the `(break-group).nest-break` pattern. This is clearest to understand working backwards:\n",
    "\n",
    "- the final break puts the closing statement (e.g. `end`) on a new line if laid out vertically.\n",
    "- the `nest` ensures that the contents are indented if they are laid out vertically.\n",
    "    - the `group` (inside the `nest`) ensures that the contents have a chance to lay themselves out horizontally if possible (even if the overall pattern is laid out vertically).\n",
    "    - the first `break` (also inside the `nest`!) puts the beginning statement on a new line if laid out vertically. This has to be *inside* the `nest` so that this first newline is inserted with the right amount of indentation after it.\n",
    "\n",
    "Finally note that the `group`ed content itself should typically use breaks to separate each item. `wl.join(wl.comma, ...)` is a common way to do this.\n",
    "\n",
    "---\n",
    "\n",
    "Here are a few more examples that use this pattern. First a list:"
   ]
  },
  {
   "cell_type": "code",
   "execution_count": 3,
   "id": "23886204-0fa6-4a00-ae70-d7ce57df06e8",
   "metadata": {},
   "outputs": [
    {
     "name": "stdout",
     "output_type": "stream",
     "text": [
      "[\n",
      " 'foo', 'bar', 'qux'\n",
      "]\n",
      "[\n",
      " 'foo',\n",
      " 'bar',\n",
      " 'qux'\n",
      "]"
     ]
    }
   ],
   "source": [
    "my_list = [\"foo\", \"bar\", \"qux\"]\n",
    "pprint(my_list, width=20, indent=1)\n",
    "pprint(my_list, width=15, indent=1)"
   ]
  },
  {
   "cell_type": "markdown",
   "id": "5922fbc0-be1a-4791-bd49-563ae8ab816c",
   "metadata": {},
   "source": [
    "And now a dataclass:"
   ]
  },
  {
   "cell_type": "code",
   "execution_count": 4,
   "id": "9a0e73f3-8fbe-4a6b-9500-e18a534f7515",
   "metadata": {},
   "outputs": [
    {
     "name": "stdout",
     "output_type": "stream",
     "text": [
      "MyDataclass(\n",
      "  x=3, y='hello world', z=3.14\n",
      ")\n",
      "MyDataclass(\n",
      "  x=3,\n",
      "  y='hello world',\n",
      "  z=3.14\n",
      ")"
     ]
    }
   ],
   "source": [
    "from dataclasses import dataclass\n",
    "\n",
    "@dataclass\n",
    "class MyDataclass:\n",
    "    x: int\n",
    "    y: str\n",
    "    z: float\n",
    "\n",
    "my_dataclass = MyDataclass(x=3, y=\"hello world\", z=3.14)\n",
    "pprint(my_dataclass, width=30)\n",
    "pprint(my_dataclass, width=20)"
   ]
  },
  {
   "cell_type": "markdown",
   "id": "0d7bb233-cf03-4d85-b874-cf503a539efd",
   "metadata": {},
   "source": [
    "---\n",
    "\n",
    "And now if you've made it this far through all the examples, here's a useful trick: [`wadler_lindig.bracketed`][] offers a simple API for creating the `(break-group).nest-break` pattern for you."
   ]
  }
 ],
 "metadata": {
  "kernelspec": {
   "display_name": "Python 3 (ipykernel)",
   "language": "python",
   "name": "python3"
  },
  "language_info": {
   "codemirror_mode": {
    "name": "ipython",
    "version": 3
   },
   "file_extension": ".py",
   "mimetype": "text/x-python",
   "name": "python",
   "nbconvert_exporter": "python",
   "pygments_lexer": "ipython3",
   "version": "3.11.9"
  }
 },
 "nbformat": 4,
 "nbformat_minor": 5
}
