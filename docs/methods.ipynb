{
 "cells": [
  {
   "cell_type": "markdown",
   "id": "7386f0e1-54b8-4d80-92f3-2ff1bae269cb",
   "metadata": {},
   "source": [
    "# The `+`, `.nest`, and `.group` methods\n",
    "\n",
    "Whilst [the `__pdoc__` method](./custom_pprints.ipynb) example explicitly spelled out each and every doc, in practice we can use:\n",
    "\n",
    "- `doc + doc` to form [`wadler_lindig.ConcatDoc`][],\n",
    "- `doc.nest(indent)` to form [`wadler_lindig.NestDoc`][],\n",
    "- and `doc.group()` to form [`wadler_lindig.GroupDoc`][].\n",
    "\n",
    "These are usually offer a more compact representation.\n",
    "\n",
    "For example, this:"
   ]
  },
  {
   "cell_type": "code",
   "execution_count": 1,
   "id": "b7959cb0-3e8c-43bf-ab78-c7040b048095",
   "metadata": {},
   "outputs": [],
   "source": [
    "from wadler_lindig import BreakDoc as Brk, TextDoc as Txt\n",
    "\n",
    "\n",
    "doc = (\n",
    "    Txt(\"begin\")\n",
    "    + (\n",
    "        Brk(\" \")\n",
    "        + (Txt(\"stmt;\") + Brk(\" \") + Txt(\"stmt;\") + Brk(\" \") + Txt(\"stmt;\")).group()\n",
    "    ).nest(3)\n",
    "    + Brk(\" \")\n",
    "    + Txt(\"end\")\n",
    ")"
   ]
  },
  {
   "cell_type": "markdown",
   "id": "915662b8-cfde-480a-b5fa-7692a93ffe19",
   "metadata": {},
   "source": [
    "Expands to this:"
   ]
  },
  {
   "cell_type": "code",
   "execution_count": 2,
   "id": "2a217797-f7c7-41f8-bdd8-d3ef9cc5e7b0",
   "metadata": {},
   "outputs": [],
   "source": [
    "from wadler_lindig import BreakDoc, ConcatDoc, GroupDoc, NestDoc, TextDoc\n",
    "\n",
    "\n",
    "doc = ConcatDoc(\n",
    "    children=(\n",
    "        TextDoc(text=\"begin\"),\n",
    "        NestDoc(\n",
    "            child=ConcatDoc(\n",
    "                children=(\n",
    "                    BreakDoc(text=\" \"),\n",
    "                    GroupDoc(\n",
    "                        child=ConcatDoc(\n",
    "                            children=(\n",
    "                                TextDoc(text=\"stmt;\"),\n",
    "                                BreakDoc(text=\" \"),\n",
    "                                TextDoc(text=\"stmt;\"),\n",
    "                                BreakDoc(text=\" \"),\n",
    "                                TextDoc(text=\"stmt;\"),\n",
    "                            )\n",
    "                        )\n",
    "                    ),\n",
    "                )\n",
    "            ),\n",
    "            indent=3,\n",
    "        ),\n",
    "        BreakDoc(text=\" \"),\n",
    "        TextDoc(text=\"end\"),\n",
    "    )\n",
    ")"
   ]
  },
  {
   "cell_type": "markdown",
   "id": "77e88bfd-6809-467a-aac3-39c2375ff20f",
   "metadata": {},
   "source": [
    "Here's what the result looks like, for completeness:"
   ]
  },
  {
   "cell_type": "code",
   "execution_count": 3,
   "id": "cea0f028-a997-4823-9cfb-4eb46ef3a4d6",
   "metadata": {},
   "outputs": [
    {
     "name": "stdout",
     "output_type": "stream",
     "text": [
      "begin\n",
      "   stmt; stmt; stmt;\n",
      "end"
     ]
    }
   ],
   "source": [
    "from wadler_lindig import pprint\n",
    "\n",
    "\n",
    "pprint(doc, width=25)"
   ]
  },
  {
   "cell_type": "markdown",
   "id": "3f1cfe63-acc7-4eae-a2cd-b85b7d1e52f0",
   "metadata": {},
   "source": [
    "---\n",
    "\n",
    "Next example: take a look at the [`(break-group).nest-break` example](./pattern.ipynb) for a common pattern worth knowing."
   ]
  }
 ],
 "metadata": {
  "kernelspec": {
   "display_name": "Python 3 (ipykernel)",
   "language": "python",
   "name": "python3"
  },
  "language_info": {
   "codemirror_mode": {
    "name": "ipython",
    "version": 3
   },
   "file_extension": ".py",
   "mimetype": "text/x-python",
   "name": "python",
   "nbconvert_exporter": "python",
   "pygments_lexer": "ipython3",
   "version": "3.11.9"
  }
 },
 "nbformat": 4,
 "nbformat_minor": 5
}
